{
 "cells": [
  {
   "cell_type": "markdown",
   "metadata": {},
   "source": [
    "# Simple Probability\n",
    "\n",
    "\n",
    "What is **probability**? It is a measure of likelihood. How likely is it for an event to happen? For example, if we flip a coin, what is the probability, or likelihood, of getting a tails? Or if you are competing in a lottery competition, what is the probability of your victory?\n",
    "\n",
    "Not everything is certain in life; by estimating the likelihood of something occuring with given information, we can improve our confidence. That is the essential purpose of probability."
   ]
  },
  {
   "cell_type": "markdown",
   "metadata": {},
   "source": [
    "---"
   ]
  },
  {
   "cell_type": "markdown",
   "metadata": {},
   "source": [
    "## Sample Spaces\n",
    "\n",
    "An **experiment** is a set of observations, and its appropriate data. For example, flipping a coin is a popular experiment used when studying probability. We observe the outcomes (which side of the coin will show up), and collect data based on those outcomes (heads or tails).\n",
    "\n",
    "Now, the **sample space** is the complete set of all possible outcomes. As an example, when we flip a coin, the two outcomes possible are defined below, in sample space $S$: $$S = \\{H, T\\}$$\n",
    "\n",
    "$H$ stands for heads, and $T$ stands for tails."
   ]
  },
  {
   "cell_type": "code",
   "execution_count": null,
   "metadata": {},
   "outputs": [],
   "source": []
  }
 ],
 "metadata": {
  "kernelspec": {
   "display_name": "R",
   "language": "R",
   "name": "ir"
  },
  "language_info": {
   "codemirror_mode": "r",
   "file_extension": ".r",
   "mimetype": "text/x-r-source",
   "name": "R",
   "pygments_lexer": "r",
   "version": "3.5.1"
  }
 },
 "nbformat": 4,
 "nbformat_minor": 2
}
