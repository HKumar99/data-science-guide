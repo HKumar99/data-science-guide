{
 "cells": [
  {
   "cell_type": "markdown",
   "metadata": {},
   "source": [
    "# Introduction to Sets\n",
    "\n",
    "What is a **set**? It is simply a collection of objects. For example, a set can be all the cards in a standard 52-card deck. Or all the positive integers up till 10. There is one constraint: each element SHOULD be unique, meaning only one of it should exist in the set!"
   ]
  },
  {
   "cell_type": "markdown",
   "metadata": {},
   "source": [
    "---"
   ]
  },
  {
   "cell_type": "markdown",
   "metadata": {},
   "source": [
    "## What does a set look like?\n",
    "\n",
    "You may have seen sets as Venn Diagrams. In this unit, we will look at them in a different way. Let us define a set A as the following:\n",
    "\n",
    "$$A = \\{ 1, 3, 5 \\}$$\n",
    "\n",
    "This set contains the elements 1, 3 and 5. They are all unique, different elements."
   ]
  },
  {
   "cell_type": "markdown",
   "metadata": {},
   "source": [
    "---"
   ]
  },
  {
   "cell_type": "markdown",
   "metadata": {},
   "source": [
    "## Union\n",
    "\n",
    "Let us define set $B = \\{ 1, 2, 3 \\}$, and set $C = \\{ 4, 5, 6 \\}$. The **union** of these two sets is...\n",
    "\n",
    "$$B \\cup C = \\{ 1, 2, 3, 4, 5, 6 \\}$$\n",
    "\n",
    "Basically, we are joining both the sets together, into one set. \n",
    "\n",
    "Let us define another set $D = \\{ 3, 7, 10 \\}$. Now, the union of $B$ and $D$ is...\n",
    "\n",
    "$$B \\cup D = \\{ 1, 2, 3, 7, 10 \\}$$\n",
    "\n",
    "Although 3 exists in both $B$ and $D$, remember that a set contains only one copy of each element; that's why there is only one 3 in the union."
   ]
  },
  {
   "cell_type": "markdown",
   "metadata": {},
   "source": [
    "---"
   ]
  },
  {
   "cell_type": "markdown",
   "metadata": {},
   "source": [
    "## Intersection\n",
    "\n",
    "Now, let us define $E = \\{ 1, 4, 7 \\}$, and $F = \\{ 2, 4, 6 \\}$. The **intersection** of these two sets is...\n",
    "\n",
    "$$E \\cap F = \\{ 4 \\}$$\n",
    "\n",
    "What is similar between set $E$ and $F$? That is what the intersection wants to find out!\n",
    "\n",
    "Let us define another set $G = \\{ 2, 5, 8 \\}$. The intersection of $E$ and $G$ is...\n",
    "\n",
    "$$E \\cap G = \\{ \\} = \\emptyset$$\n",
    "\n",
    "What is $\\emptyset$? It represents the *null*, or empty, set.\n",
    "\n",
    "If two sets have an empty (null) intersection, it is said that they are **mutually exclusive**; they both do not have any similar elements."
   ]
  },
  {
   "cell_type": "markdown",
   "metadata": {},
   "source": [
    "---"
   ]
  },
  {
   "cell_type": "markdown",
   "metadata": {},
   "source": [
    "## Complement\n",
    "\n",
    "Finally, let's discuss the **complement**. This is kind of like subtraction for sets. \n",
    "\n",
    "Let's say we have a set $A$, and then a set $B$. Then, $A$ complement $B$ is symbolically represented as $A - B$. This is essentially set $A$, minus all the elements that are in both set $A$ and $B$. \n",
    "\n",
    "Okay, as an example, we will define set $H = \\{ 1, 2, 3, 4, 5, 6 \\}$, and set $J = \\{ 4, 5, 6, 7, 8, 9 \\}$. Then $H - J$ would be...\n",
    "\n",
    "$$H - J = \\{ 1, 2, 3 \\}$$\n",
    "\n",
    "Alright, so the elements that are both in $H$ and $J$ are 4, 5, and 6. Hence, when we do $H - J$, we get rid of the 4, 5, and 6 in $H$.\n",
    "\n",
    "Now, here's something: what if we do $J - H$? This is...\n",
    "\n",
    "$$J - H = \\{ 7, 8, 9 \\}$$\n",
    "\n",
    "Again, we are taking out what is common in both $H$ and $J$, except this time, we are taking them out from $J$. Can you see why this is sort of like subtraction for sets?"
   ]
  },
  {
   "cell_type": "markdown",
   "metadata": {},
   "source": [
    "---"
   ]
  },
  {
   "cell_type": "markdown",
   "metadata": {},
   "source": [
    "Great, next, we'll move on to subsets. If you want a more intuitive explanation for sets, check out [Math is Fun](https://www.mathsisfun.com/sets/venn-diagrams.html). They have the familiar Venn diagrams!"
   ]
  }
 ],
 "metadata": {
  "kernelspec": {
   "display_name": "R",
   "language": "R",
   "name": "ir"
  },
  "language_info": {
   "codemirror_mode": "r",
   "file_extension": ".r",
   "mimetype": "text/x-r-source",
   "name": "R",
   "pygments_lexer": "r",
   "version": "3.5.1"
  }
 },
 "nbformat": 4,
 "nbformat_minor": 2
}
