{
 "cells": [
  {
   "cell_type": "markdown",
   "metadata": {},
   "source": [
    "# Subsets"
   ]
  },
  {
   "cell_type": "markdown",
   "metadata": {},
   "source": [
    "A **subset** is a part of a set; it is smaller or equal in size to the original set, and has elements that exist only in the set. Say you have a set $A = \\{ 1, 2, 3, 4 \\}$. A subset of this set would be $\\{ 2, 3 \\}$. That's it!"
   ]
  },
  {
   "cell_type": "markdown",
   "metadata": {},
   "source": [
    "---"
   ]
  },
  {
   "cell_type": "markdown",
   "metadata": {},
   "source": [
    "## Notation\n",
    "\n",
    "Let's get accustomed to the proper notation of a subset. If $B$ is a subset of $A$, then $B \\subset A$. What this means is that $B$ is a set smaller than $A$, and the only elements that $B$ contains are some of the elements in $A$.\n",
    "\n",
    "Then, you also have this notation: $B \\subseteq A$. This means that $B$ is a subset of $A$, or is exactly the same as $A$.\n",
    "\n",
    "Now, there are also notations for when a set is not a subset of another set. For example, say $B$ is not a subset of $A$. This means that $B \\not\\subset A$."
   ]
  },
  {
   "cell_type": "markdown",
   "metadata": {},
   "source": [
    "---"
   ]
  },
  {
   "cell_type": "markdown",
   "metadata": {},
   "source": [
    "## Example\n",
    "\n",
    "Let us look at some examples. Say we are given the set $C = \\{ 10, 20, 30, 40, 50 \\}$.\n",
    "\n",
    "Along with that, we are given $D = \\{ 20, 40 \\}$, $E = \\{ 10, 20, 30, 40, 50 \\}$, and $F = \\{ 60 \\}$.\n",
    "\n",
    "This means that $D \\subset C$, or $D \\subseteq C$.\n",
    "\n",
    "Surely, $E \\subseteq C$.\n",
    "\n",
    "And of course, $F \\not\\subset C$."
   ]
  },
  {
   "cell_type": "markdown",
   "metadata": {},
   "source": [
    "---"
   ]
  },
  {
   "cell_type": "markdown",
   "metadata": {},
   "source": [
    "## A Word about Null Sets\n",
    "\n",
    "It is important to note that the null set is **trivially** a subset of every set. What do we mean by this? Well, let's remember that a null set is completely empty; nothing exists inside a null set. So essentially, we can assume that nothingness is trivially (unimportantly) a member of every set. There are more formal explorations of this weird concept all around the web, but all you need to know is that, given an arbitrary (random) set $A$:\n",
    "\n",
    "$$\\emptyset \\subseteq A$$"
   ]
  },
  {
   "cell_type": "markdown",
   "metadata": {},
   "source": [
    "---"
   ]
  },
  {
   "cell_type": "markdown",
   "metadata": {},
   "source": [
    "We can move on to some rules in set theory that will be of great use when doing probability!"
   ]
  }
 ],
 "metadata": {
  "kernelspec": {
   "display_name": "R",
   "language": "R",
   "name": "ir"
  },
  "language_info": {
   "codemirror_mode": "r",
   "file_extension": ".r",
   "mimetype": "text/x-r-source",
   "name": "R",
   "pygments_lexer": "r",
   "version": "3.5.1"
  }
 },
 "nbformat": 4,
 "nbformat_minor": 2
}
