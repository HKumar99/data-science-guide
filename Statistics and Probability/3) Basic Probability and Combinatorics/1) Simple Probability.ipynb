{
 "cells": [
  {
   "cell_type": "markdown",
   "metadata": {},
   "source": [
    "# Simple Probability\n",
    "\n",
    "\n",
    "What is **probability**? It is a measure of likelihood. How likely is it for an event to happen? For example, if we flip a coin, what is the probability, or likelihood, of getting a tails? Or if you are competing in a lottery competition, what is the probability of your victory?\n",
    "\n",
    "Not everything is certain in life; by estimating the likelihood of something occuring with given information, we can improve our confidence. That is the essential purpose of probability."
   ]
  },
  {
   "cell_type": "markdown",
   "metadata": {},
   "source": [
    "---"
   ]
  },
  {
   "cell_type": "markdown",
   "metadata": {},
   "source": [
    "## Sample Spaces\n",
    "\n",
    "An **experiment** is a set of observations, and its appropriate data. For example, flipping a coin is a popular experiment used when studying probability. We observe the outcomes (which side of the coin will show up), and collect data based on those outcomes (heads or tails).\n",
    "\n",
    "Now, the **sample space** is the complete set of all possible outcomes. As an example, when we flip a coin, the two outcomes possible are defined below, in sample space $S$: \n",
    "\n",
    "$$S = \\{H, T\\}$$\n",
    "\n",
    "$H$ stands for heads, and $T$ stands for tails. \n",
    "\n",
    "Likewise, let us define another sample space $S$; this time, this sample space will contain all the outcomes possible when flipping two coins: \n",
    "\n",
    "$$S = \\{HH, HT, TH, TT \\} $$\n",
    "\n",
    "You can get heads and heads, heads and tails, tails and heads, or tails and tails. As you flip more coins, the sample space gets bigger and bigger!"
   ]
  },
  {
   "cell_type": "markdown",
   "metadata": {},
   "source": [
    "---"
   ]
  },
  {
   "cell_type": "markdown",
   "metadata": {},
   "source": [
    "## Events\n",
    "\n",
    "An **event** is a subset of the sample space. Essentially, an event contains one or more of the outcomes possible in an experiment. To come back to our coin flipping example...\n",
    "\n",
    "What is the event of getting two heads when flipping two coins? Let us call this event $A$. Now, since we want the event of getting two heads, $A = \\{ HH \\}$. Since it only contains one element, event $A$ is what is known as a *simple event*.\n",
    "\n",
    "Okay, next example! What is the event of getting atleast one head when flipping two coins? Let us define this event as $B$; its subset is $B = \\{ HH, HT, TH \\}$. In each of the three outcomes, there is atleast one $H$; since this event has three seperate outcomes within it, it is known as a *compound event*."
   ]
  },
  {
   "cell_type": "markdown",
   "metadata": {},
   "source": [
    "---"
   ]
  },
  {
   "cell_type": "markdown",
   "metadata": {},
   "source": [
    "## Calculating Probability\n",
    "\n",
    "Great, our first probability question! What is the probability that when I flip two coins, I will get two heads?\n",
    "\n",
    "There are a few ways to approach this question; let us first use the method with sample spaces and events.\n",
    "\n",
    "#### Method 1: Sample Spaces\n",
    "\n",
    "Remember that the sample space of flipping two coins is $S = \\{ HH, HT, TH, TT \\}$. There are 4 elements, or outcomes, in the sample space. \n",
    "\n",
    "Next, the event $A$ that we will get two heads, is $A = \\{ HH \\}$. This has one element in it.\n",
    "\n",
    "So, we calculate the probability by dividing the number of elements in our event, by the number of elements in the total sample space. This is $\\frac{1}{4}$.\n",
    "\n",
    "#### Method 2: Tree Diagram\n",
    "\n",
    "WORK IN PROGRESS"
   ]
  },
  {
   "cell_type": "markdown",
   "metadata": {},
   "source": [
    "---"
   ]
  }
 ],
 "metadata": {
  "kernelspec": {
   "display_name": "R",
   "language": "R",
   "name": "ir"
  },
  "language_info": {
   "codemirror_mode": "r",
   "file_extension": ".r",
   "mimetype": "text/x-r-source",
   "name": "R",
   "pygments_lexer": "r",
   "version": "3.5.1"
  }
 },
 "nbformat": 4,
 "nbformat_minor": 2
}
