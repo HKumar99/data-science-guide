{
 "cells": [
  {
   "cell_type": "markdown",
   "metadata": {},
   "source": [
    "# Accessing and Cleaning Data in Data Frames\n",
    "\n",
    "Now that we know how to create and store a Data Frame using Pandas, we will now focus on accessing and changing its data. Data cleaning accounts for a significant portion of a data scientist/analyst's task; usually, datasets (or portions of it) are unnecessarily large, redundant, and/or useless for a given task, so we clean them. This notebook goes over some basic data cleaning."
   ]
  },
  {
   "cell_type": "code",
   "execution_count": null,
   "metadata": {},
   "outputs": [],
   "source": []
  }
 ],
 "metadata": {
  "kernelspec": {
   "display_name": "Python 3",
   "language": "python",
   "name": "python3"
  },
  "language_info": {
   "codemirror_mode": {
    "name": "ipython",
    "version": 3
   },
   "file_extension": ".py",
   "mimetype": "text/x-python",
   "name": "python",
   "nbconvert_exporter": "python",
   "pygments_lexer": "ipython3",
   "version": "3.6.5"
  }
 },
 "nbformat": 4,
 "nbformat_minor": 2
}
