{
 "cells": [
  {
   "cell_type": "markdown",
   "metadata": {},
   "source": [
    "# Some String Functions\n",
    "\n",
    "In this notebook, we will look at some string manipulations possible with R."
   ]
  },
  {
   "cell_type": "code",
   "execution_count": 1,
   "metadata": {},
   "outputs": [
    {
     "data": {
      "text/html": [
       "'R Programming'"
      ],
      "text/latex": [
       "'R Programming'"
      ],
      "text/markdown": [
       "'R Programming'"
      ],
      "text/plain": [
       "[1] \"R Programming\""
      ]
     },
     "metadata": {},
     "output_type": "display_data"
    }
   ],
   "source": [
    "first = 'R'\n",
    "last = 'Programming'\n",
    "paste(first, last)"
   ]
  },
  {
   "cell_type": "markdown",
   "metadata": {},
   "source": [
    "---"
   ]
  },
  {
   "cell_type": "markdown",
   "metadata": {},
   "source": [
    "In the below code, we use **format specifiers**. These are represented by the '%' symbol, and they act as placeholders for arbitary data values. For integers, use `%d`. For strings and characters, use `%s`. And for decimals, use `%f`. There are more of them to explore! "
   ]
  },
  {
   "cell_type": "code",
   "execution_count": 4,
   "metadata": {},
   "outputs": [
    {
     "data": {
      "text/html": [
       "<span style=white-space:pre-wrap>'Integer: 10  -  String: Hello  -  Decimal: 3.140000'</span>"
      ],
      "text/latex": [
       "'Integer: 10  -  String: Hello  -  Decimal: 3.140000'"
      ],
      "text/markdown": [
       "<span style=white-space:pre-wrap>'Integer: 10  -  String: Hello  -  Decimal: 3.140000'</span>"
      ],
      "text/plain": [
       "[1] \"Integer: 10  -  String: Hello  -  Decimal: 3.140000\""
      ]
     },
     "metadata": {},
     "output_type": "display_data"
    }
   ],
   "source": [
    "sprintf(\"Integer: %d  -  String: %s  -  Decimal: %f\", 10, 'Hello', 3.14)"
   ]
  },
  {
   "cell_type": "markdown",
   "metadata": {},
   "source": [
    "In the above code, `%d` looks at the first argument after our string, and sees that it is 10 (an integer). Now, 10 will replace that `%d`. Same goes for the other format specifiers."
   ]
  },
  {
   "cell_type": "markdown",
   "metadata": {},
   "source": [
    "---"
   ]
  },
  {
   "cell_type": "code",
   "execution_count": 8,
   "metadata": {},
   "outputs": [
    {
     "data": {
      "text/html": [
       "'The slow brown fox jumped over the lazy dog'"
      ],
      "text/latex": [
       "'The slow brown fox jumped over the lazy dog'"
      ],
      "text/markdown": [
       "'The slow brown fox jumped over the lazy dog'"
      ],
      "text/plain": [
       "[1] \"The slow brown fox jumped over the lazy dog\""
      ]
     },
     "metadata": {},
     "output_type": "display_data"
    }
   ],
   "source": [
    "sub(\"quick\", \"slow\", \"The quick brown fox jumped over the lazy dog\")"
   ]
  },
  {
   "cell_type": "markdown",
   "metadata": {},
   "source": [
    "---"
   ]
  },
  {
   "cell_type": "code",
   "execution_count": 10,
   "metadata": {},
   "outputs": [
    {
     "data": {
      "text/html": [
       "'that good night'"
      ],
      "text/latex": [
       "'that good night'"
      ],
      "text/markdown": [
       "'that good night'"
      ],
      "text/plain": [
       "[1] \"that good night\""
      ]
     },
     "metadata": {},
     "output_type": "display_data"
    }
   ],
   "source": [
    "substr(\"Do not go gentle into that good night\", start = 23, stop = 37)"
   ]
  },
  {
   "cell_type": "markdown",
   "metadata": {},
   "source": [
    "---"
   ]
  },
  {
   "cell_type": "code",
   "execution_count": 12,
   "metadata": {},
   "outputs": [
    {
     "data": {
      "text/html": [
       "5"
      ],
      "text/latex": [
       "5"
      ],
      "text/markdown": [
       "5"
      ],
      "text/plain": [
       "[1] 5"
      ]
     },
     "metadata": {},
     "output_type": "display_data"
    }
   ],
   "source": [
    "nchar(\"Apple\")"
   ]
  },
  {
   "cell_type": "markdown",
   "metadata": {},
   "source": [
    "---"
   ]
  },
  {
   "cell_type": "code",
   "execution_count": 14,
   "metadata": {},
   "outputs": [
    {
     "data": {
      "text/html": [
       "'data science is rewarding for you and society'"
      ],
      "text/latex": [
       "'data science is rewarding for you and society'"
      ],
      "text/markdown": [
       "'data science is rewarding for you and society'"
      ],
      "text/plain": [
       "[1] \"data science is rewarding for you and society\""
      ]
     },
     "metadata": {},
     "output_type": "display_data"
    },
    {
     "data": {
      "text/html": [
       "'GIVEN PRACTICE, YOU CAN BECOME A DATA SCIENTIST'"
      ],
      "text/latex": [
       "'GIVEN PRACTICE, YOU CAN BECOME A DATA SCIENTIST'"
      ],
      "text/markdown": [
       "'GIVEN PRACTICE, YOU CAN BECOME A DATA SCIENTIST'"
      ],
      "text/plain": [
       "[1] \"GIVEN PRACTICE, YOU CAN BECOME A DATA SCIENTIST\""
      ]
     },
     "metadata": {},
     "output_type": "display_data"
    }
   ],
   "source": [
    "tolower('DATA SCIENCE IS REWARDING FOR YOU AND SOCIETY')\n",
    "\n",
    "toupper('given practice, you can bEcOmE a DaTa ScIentist')"
   ]
  },
  {
   "cell_type": "markdown",
   "metadata": {},
   "source": [
    "---"
   ]
  },
  {
   "cell_type": "markdown",
   "metadata": {},
   "source": [
    "Here's an interesting string functionality. Using the `chartr()` method, we can 'translate' strings. Check this out."
   ]
  },
  {
   "cell_type": "code",
   "execution_count": 15,
   "metadata": {},
   "outputs": [
    {
     "data": {
      "text/html": [
       "'cat'"
      ],
      "text/latex": [
       "'cat'"
      ],
      "text/markdown": [
       "'cat'"
      ],
      "text/plain": [
       "[1] \"cat\""
      ]
     },
     "metadata": {},
     "output_type": "display_data"
    }
   ],
   "source": [
    "chartr('r', 'c', 'rat')"
   ]
  },
  {
   "cell_type": "markdown",
   "metadata": {},
   "source": [
    "What happened? The 'r' in 'rat' was replaced with a 'c', to output 'cat'. The first parameter is the character that needs to be replaced. The second parameter is what will replace the old character. The third parameter is the string.\n",
    "\n",
    "Okay, here's another implementation."
   ]
  },
  {
   "cell_type": "code",
   "execution_count": 17,
   "metadata": {},
   "outputs": [
    {
     "data": {
      "text/html": [
       "'! b c d @ f g h # j k l m n $ p q r s t % v w x y z'"
      ],
      "text/latex": [
       "'! b c d @ f g h \\# j k l m n \\$ p q r s t \\% v w x y z'"
      ],
      "text/markdown": [
       "'! b c d @ f g h # j k l m n $ p q r s t % v w x y z'"
      ],
      "text/plain": [
       "[1] \"! b c d @ f g h # j k l m n $ p q r s t % v w x y z\""
      ]
     },
     "metadata": {},
     "output_type": "display_data"
    }
   ],
   "source": [
    "chartr('aeiou', '!@#$%', 'a b c d e f g h i j k l m n o p q r s t u v w x y z')"
   ]
  },
  {
   "cell_type": "markdown",
   "metadata": {},
   "source": [
    "In the first and second parameter, we passed five different characters. In our string, 'a' was replaced with '!'. Likewise, 'b' was replaced with '@'. And so on..."
   ]
  }
 ],
 "metadata": {
  "kernelspec": {
   "display_name": "R",
   "language": "R",
   "name": "ir"
  },
  "language_info": {
   "codemirror_mode": "r",
   "file_extension": ".r",
   "mimetype": "text/x-r-source",
   "name": "R",
   "pygments_lexer": "r",
   "version": "3.5.1"
  }
 },
 "nbformat": 4,
 "nbformat_minor": 2
}
