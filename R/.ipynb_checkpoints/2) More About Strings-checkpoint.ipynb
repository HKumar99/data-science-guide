{
 "cells": [
  {
   "cell_type": "markdown",
   "metadata": {},
   "source": [
    "# Some String Functions\n",
    "\n",
    "In this short notebook, we will look at some string manipulations possible with R."
   ]
  },
  {
   "cell_type": "code",
   "execution_count": 1,
   "metadata": {},
   "outputs": [
    {
     "data": {
      "text/html": [
       "'R Programming'"
      ],
      "text/latex": [
       "'R Programming'"
      ],
      "text/markdown": [
       "'R Programming'"
      ],
      "text/plain": [
       "[1] \"R Programming\""
      ]
     },
     "metadata": {},
     "output_type": "display_data"
    }
   ],
   "source": [
    "first = 'R'\n",
    "last = 'Programming'\n",
    "paste(first, last)"
   ]
  },
  {
   "cell_type": "code",
   "execution_count": 4,
   "metadata": {},
   "outputs": [
    {
     "data": {
      "text/html": [
       "<span style=white-space:pre-wrap>'Integer: 10  -  String: Hello  -  Decimal: 3.140000'</span>"
      ],
      "text/latex": [
       "'Integer: 10  -  String: Hello  -  Decimal: 3.140000'"
      ],
      "text/markdown": [
       "<span style=white-space:pre-wrap>'Integer: 10  -  String: Hello  -  Decimal: 3.140000'</span>"
      ],
      "text/plain": [
       "[1] \"Integer: 10  -  String: Hello  -  Decimal: 3.140000\""
      ]
     },
     "metadata": {},
     "output_type": "display_data"
    }
   ],
   "source": [
    "sprintf(\"Integer: %d  -  String: %s  -  Decimal: %f\", 10, 'Hello', 3.14)"
   ]
  },
  {
   "cell_type": "code",
   "execution_count": 8,
   "metadata": {},
   "outputs": [
    {
     "data": {
      "text/html": [
       "'The slow brown fox jumped over the lazy dog'"
      ],
      "text/latex": [
       "'The slow brown fox jumped over the lazy dog'"
      ],
      "text/markdown": [
       "'The slow brown fox jumped over the lazy dog'"
      ],
      "text/plain": [
       "[1] \"The slow brown fox jumped over the lazy dog\""
      ]
     },
     "metadata": {},
     "output_type": "display_data"
    }
   ],
   "source": [
    "sub(\"quick\", \"slow\", \"The quick brown fox jumped over the lazy dog\")"
   ]
  }
 ],
 "metadata": {
  "kernelspec": {
   "display_name": "R",
   "language": "R",
   "name": "ir"
  },
  "language_info": {
   "codemirror_mode": "r",
   "file_extension": ".r",
   "mimetype": "text/x-r-source",
   "name": "R",
   "pygments_lexer": "r",
   "version": "3.5.1"
  }
 },
 "nbformat": 4,
 "nbformat_minor": 2
}
