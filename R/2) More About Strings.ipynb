{
 "cells": [
  {
   "cell_type": "markdown",
   "metadata": {},
   "source": [
    "# Some String Functions\n",
    "\n",
    "In this short notebook, we will look at some string manipulations possible with R."
   ]
  },
  {
   "cell_type": "code",
   "execution_count": 1,
   "metadata": {},
   "outputs": [
    {
     "data": {
      "text/html": [
       "'R Programming'"
      ],
      "text/latex": [
       "'R Programming'"
      ],
      "text/markdown": [
       "'R Programming'"
      ],
      "text/plain": [
       "[1] \"R Programming\""
      ]
     },
     "metadata": {},
     "output_type": "display_data"
    }
   ],
   "source": [
    "first = 'R'\n",
    "last = 'Programming'\n",
    "paste(first, last)"
   ]
  },
  {
   "cell_type": "markdown",
   "metadata": {},
   "source": [
    "---"
   ]
  },
  {
   "cell_type": "markdown",
   "metadata": {},
   "source": [
    "In the below code, we use **format specifiers**. These are represented by the '%' symbol, and they act as placeholders for arbitary data values. For integers, use `%d`. For strings and characters, use `%s`. And for decimals, use `%f`. There are more of them to explore! "
   ]
  },
  {
   "cell_type": "code",
   "execution_count": 4,
   "metadata": {},
   "outputs": [
    {
     "data": {
      "text/html": [
       "<span style=white-space:pre-wrap>'Integer: 10  -  String: Hello  -  Decimal: 3.140000'</span>"
      ],
      "text/latex": [
       "'Integer: 10  -  String: Hello  -  Decimal: 3.140000'"
      ],
      "text/markdown": [
       "<span style=white-space:pre-wrap>'Integer: 10  -  String: Hello  -  Decimal: 3.140000'</span>"
      ],
      "text/plain": [
       "[1] \"Integer: 10  -  String: Hello  -  Decimal: 3.140000\""
      ]
     },
     "metadata": {},
     "output_type": "display_data"
    }
   ],
   "source": [
    "sprintf(\"Integer: %d  -  String: %s  -  Decimal: %f\", 10, 'Hello', 3.14)"
   ]
  },
  {
   "cell_type": "markdown",
   "metadata": {},
   "source": [
    "---"
   ]
  },
  {
   "cell_type": "code",
   "execution_count": 8,
   "metadata": {},
   "outputs": [
    {
     "data": {
      "text/html": [
       "'The slow brown fox jumped over the lazy dog'"
      ],
      "text/latex": [
       "'The slow brown fox jumped over the lazy dog'"
      ],
      "text/markdown": [
       "'The slow brown fox jumped over the lazy dog'"
      ],
      "text/plain": [
       "[1] \"The slow brown fox jumped over the lazy dog\""
      ]
     },
     "metadata": {},
     "output_type": "display_data"
    }
   ],
   "source": [
    "sub(\"quick\", \"slow\", \"The quick brown fox jumped over the lazy dog\")"
   ]
  },
  {
   "cell_type": "markdown",
   "metadata": {},
   "source": [
    "---"
   ]
  },
  {
   "cell_type": "code",
   "execution_count": 10,
   "metadata": {},
   "outputs": [
    {
     "data": {
      "text/html": [
       "'that good night'"
      ],
      "text/latex": [
       "'that good night'"
      ],
      "text/markdown": [
       "'that good night'"
      ],
      "text/plain": [
       "[1] \"that good night\""
      ]
     },
     "metadata": {},
     "output_type": "display_data"
    }
   ],
   "source": [
    "substr(\"Do not go gentle into that good night\", start = 23, stop = 37)"
   ]
  },
  {
   "cell_type": "markdown",
   "metadata": {},
   "source": [
    "---"
   ]
  },
  {
   "cell_type": "code",
   "execution_count": null,
   "metadata": {},
   "outputs": [],
   "source": []
  }
 ],
 "metadata": {
  "kernelspec": {
   "display_name": "R",
   "language": "R",
   "name": "ir"
  },
  "language_info": {
   "codemirror_mode": "r",
   "file_extension": ".r",
   "mimetype": "text/x-r-source",
   "name": "R",
   "pygments_lexer": "r",
   "version": "3.5.1"
  }
 },
 "nbformat": 4,
 "nbformat_minor": 2
}
