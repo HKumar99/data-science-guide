{
 "cells": [
  {
   "cell_type": "code",
   "execution_count": 2,
   "metadata": {},
   "outputs": [
    {
     "name": "stdout",
     "output_type": "stream",
     "text": [
      "123\n",
      "3.14\n",
      "Welcome\n"
     ]
    }
   ],
   "source": [
    "# Programming (and computing in general) is all about creating, storing, manipulating, and changing data.\n",
    "# In Python, you can store changeable data inside variables. For example\n",
    "\n",
    "a = 123\n",
    "b = 3.14\n",
    "c = \"Welcome\"\n",
    "\n",
    "# If you are familiar with other programming languages like Java, you might notice that you don't have to\n",
    "# specify what the data type is in Python. For example, in Java, you have to let the computer know if you\n",
    "# are storing an integer, or a decimal (float), or a text (String). This property is called dynamic data\n",
    "# type, and it is also seen in JavaScript.\n",
    "\n",
    "# To print something, use the print command. Put the variable inside the parentheses of print().\n",
    "\n",
    "print(a)\n",
    "print(b)\n",
    "print(c)"
   ]
  },
  {
   "cell_type": "code",
   "execution_count": 3,
   "metadata": {},
   "outputs": [
    {
     "name": "stdout",
     "output_type": "stream",
     "text": [
      "15\n",
      "5\n",
      "50\n",
      "2.0\n",
      "0\n"
     ]
    }
   ],
   "source": [
    "# You can do operations with data using operators. \n",
    "\n",
    "num1 = 10\n",
    "num2 = 5\n",
    "\n",
    "add = num1 + num2  # Addition (returns the sum)\n",
    "diff = num1 - num2 # Subtraction (returns the difference)\n",
    "prod = num1 * num2 # Multiplication (returns the product)\n",
    "quot = num1 / num2 # Division (returns the quotient)\n",
    "modu = num1 % num2 # Modulus (returns the remaineder of division)\n",
    "\n",
    "print(add)\n",
    "print(diff)\n",
    "print(prod)\n",
    "print(quot)\n",
    "print(modu)"
   ]
  },
  {
   "cell_type": "code",
   "execution_count": 4,
   "metadata": {},
   "outputs": [
    {
     "name": "stdout",
     "output_type": "stream",
     "text": [
      "1\n",
      "2\n",
      "3\n",
      "5\n",
      "5\n"
     ]
    }
   ],
   "source": [
    "# Multiple assignment of variables is possible, and it can be done like so:\n",
    "\n",
    "ab, cd, ef = 1, 2, 3\n",
    "gh = ij = 5\n",
    "\n",
    "print(ab)\n",
    "print(cd)\n",
    "print(ef)\n",
    "print(gh)\n",
    "print(ij)"
   ]
  },
  {
   "cell_type": "code",
   "execution_count": 5,
   "metadata": {},
   "outputs": [
    {
     "name": "stdout",
     "output_type": "stream",
     "text": [
      "1\n",
      "Hello\n",
      "2\n",
      "Bye\n",
      "3.3\n",
      "Yeah\n"
     ]
    }
   ],
   "source": [
    "# Lists allow you to store multiple elements within the same variable:\n",
    "\n",
    "list1 = [1, \"Hello\", 2, \"Bye\", 3.3, \"Yeah\"]\n",
    "\n",
    "# Notice how many different data types can be stored within the list.\n",
    "# You can iterate through a list by using a for-each loop:\n",
    "\n",
    "for l in list1:\n",
    "    print(l)\n",
    "\n",
    "# In this case, the variable l is a placeholder for each of the elements\n",
    "# in the array."
   ]
  },
  {
   "cell_type": "code",
   "execution_count": null,
   "metadata": {},
   "outputs": [],
   "source": []
  }
 ],
 "metadata": {
  "kernelspec": {
   "display_name": "Python 3",
   "language": "python",
   "name": "python3"
  },
  "language_info": {
   "codemirror_mode": {
    "name": "ipython",
    "version": 3
   },
   "file_extension": ".py",
   "mimetype": "text/x-python",
   "name": "python",
   "nbconvert_exporter": "python",
   "pygments_lexer": "ipython3",
   "version": "3.6.5"
  }
 },
 "nbformat": 4,
 "nbformat_minor": 2
}
